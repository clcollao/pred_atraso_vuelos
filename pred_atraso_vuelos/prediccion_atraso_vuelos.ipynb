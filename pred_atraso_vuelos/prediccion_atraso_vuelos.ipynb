{
 "cells": [
  {
   "cell_type": "markdown",
   "id": "cd21a261",
   "metadata": {},
   "source": [
    "# Predicción de Atraso en Vuelos"
   ]
  },
  {
   "cell_type": "markdown",
   "id": "63eb0480",
   "metadata": {},
   "source": [
    "### 1. Librerias "
   ]
  },
  {
   "cell_type": "code",
   "execution_count": 7,
   "id": "e01f9217",
   "metadata": {},
   "outputs": [],
   "source": [
    "#### Análisis exploratorio #################\n",
    "import pandas as pd\n",
    "import seaborn as sns\n",
    "import matplotlib.pyplot as plt\n",
    "\n",
    "#### Configuración #########################\n",
    "from pathlib import Path\n",
    "import warnings\n",
    "warnings.filterwarnings('ignore')"
   ]
  },
  {
   "cell_type": "markdown",
   "id": "2db3c1c2",
   "metadata": {},
   "source": [
    "### 2. Descripción del Dataset "
   ]
  },
  {
   "cell_type": "code",
   "execution_count": null,
   "id": "e46c1d03",
   "metadata": {},
   "outputs": [],
   "source": []
  },
  {
   "cell_type": "markdown",
   "id": "dbfd3404",
   "metadata": {},
   "source": [
    "### 2.1 Descripción de las columnas"
   ]
  },
  {
   "cell_type": "markdown",
   "id": "47fc9068",
   "metadata": {},
   "source": [
    "1. **Fecha-I** : Fecha y hora programada del vuelo. \n",
    "2. **Vlo-I**   : Número de vuelo programado.\n",
    "3. **Ori-I**   : Código de ciudad de origen programado. \n",
    "4. **Des-I**   : Código de ciudad de destino programado. \n",
    "5. **Emp-I**   : Código aerolínea de vuelo programado. \n",
    "6. **Fecha-O** : Fecha y hora de operación del vuelo.\n",
    "7. **Vlo-O**   : Número de vuelo de operación del vuelo.\n",
    "8. **Ori-O**   : Código de ciudad de origen de operación.\n",
    "9. .**Des-O**  : Código de ciudad de destino de operación.\n",
    "10. **Emp-O**  : Código aerolínea de vuelo operado.\n",
    "11. **DIA**    : Día del mes de operación del vuelo.\n",
    "12. **MES**    : Número de mes de operación del vuelo.\n",
    "13. **AÑO**       : Año de operación del vuelo.\n",
    "14. **DIANOM**    : Día de la semana de operación del vuelo. \n",
    "15. **TIPOVUELO** : Tipo de vuelo, I =Internacional, N =Nacional. \n",
    "16. **OPERA**     : Nombre de aerolínea que opera.\n",
    "16. **SIGLAORI**  : Nombre ciudad origen.\n",
    "17. **SIGLADES**  : Nombre ciudad destino."
   ]
  },
  {
   "cell_type": "markdown",
   "id": "df0b179e",
   "metadata": {},
   "source": [
    "### 3. Carga datos "
   ]
  },
  {
   "cell_type": "code",
   "execution_count": 8,
   "id": "b8450e93",
   "metadata": {},
   "outputs": [
    {
     "data": {
      "text/plain": [
       "True"
      ]
     },
     "execution_count": 8,
     "metadata": {},
     "output_type": "execute_result"
    }
   ],
   "source": [
    "# Definición ruta acceso a los datos\n",
    "\n",
    "DATA = Path('/Users/claudiocollaobahamondes/Desktop/desafio/pred_atraso_vuelos/data')\n",
    "\n",
    "# Validación si existe la carpeta data\n",
    "DATA.exists()"
   ]
  },
  {
   "cell_type": "code",
   "execution_count": 15,
   "id": "dc87310d",
   "metadata": {},
   "outputs": [],
   "source": [
    "# Por definición se fuerza a las columnas Fecha-I y Fecha-O tengan formato de fecha cuando se cargan los datos\n",
    "\n",
    "df=pd.read_csv(DATA/'dataset_SCL.csv',parse_dates=['Fecha-I','Fecha-O'],infer_datetime_format=True)"
   ]
  },
  {
   "cell_type": "code",
   "execution_count": 16,
   "id": "e0d96fcf",
   "metadata": {},
   "outputs": [
    {
     "name": "stdout",
     "output_type": "stream",
     "text": [
      "<class 'pandas.core.frame.DataFrame'>\n",
      "RangeIndex: 68206 entries, 0 to 68205\n",
      "Data columns (total 18 columns):\n",
      " #   Column     Non-Null Count  Dtype         \n",
      "---  ------     --------------  -----         \n",
      " 0   Fecha-I    68206 non-null  datetime64[ns]\n",
      " 1   Vlo-I      68206 non-null  object        \n",
      " 2   Ori-I      68206 non-null  object        \n",
      " 3   Des-I      68206 non-null  object        \n",
      " 4   Emp-I      68206 non-null  object        \n",
      " 5   Fecha-O    68206 non-null  datetime64[ns]\n",
      " 6   Vlo-O      68205 non-null  object        \n",
      " 7   Ori-O      68206 non-null  object        \n",
      " 8   Des-O      68206 non-null  object        \n",
      " 9   Emp-O      68206 non-null  object        \n",
      " 10  DIA        68206 non-null  int64         \n",
      " 11  MES        68206 non-null  int64         \n",
      " 12  AÑO        68206 non-null  int64         \n",
      " 13  DIANOM     68206 non-null  object        \n",
      " 14  TIPOVUELO  68206 non-null  object        \n",
      " 15  OPERA      68206 non-null  object        \n",
      " 16  SIGLAORI   68206 non-null  object        \n",
      " 17  SIGLADES   68206 non-null  object        \n",
      "dtypes: datetime64[ns](2), int64(3), object(13)\n",
      "memory usage: 9.4+ MB\n"
     ]
    }
   ],
   "source": [
    "# Validación de los formatos por columna\n",
    "\n",
    "df.info()"
   ]
  },
  {
   "cell_type": "code",
   "execution_count": null,
   "id": "0213d380",
   "metadata": {},
   "outputs": [],
   "source": []
  }
 ],
 "metadata": {
  "kernelspec": {
   "display_name": "Python 3 (ipykernel)",
   "language": "python",
   "name": "python3"
  },
  "language_info": {
   "codemirror_mode": {
    "name": "ipython",
    "version": 3
   },
   "file_extension": ".py",
   "mimetype": "text/x-python",
   "name": "python",
   "nbconvert_exporter": "python",
   "pygments_lexer": "ipython3",
   "version": "3.8.13"
  }
 },
 "nbformat": 4,
 "nbformat_minor": 5
}
